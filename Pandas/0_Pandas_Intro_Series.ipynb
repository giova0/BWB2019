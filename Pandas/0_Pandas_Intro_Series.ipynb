{
 "cells": [
  {
   "cell_type": "markdown",
   "metadata": {
    "colab_type": "text",
    "id": "tdrwzYeaDF_N"
   },
   "source": [
    "# Introducción a Pandas\n",
    "\n",
    "* Pandas es una librería open source construida sobre NumPy.\n",
    "* Permite realizar análisis de datos de forma eficiente, y también sirve para limpiar y preparar los datos.\n",
    "* Sobresale por su rendimiento y productividad.\n",
    "* También permite hacer visualizaciones.\n",
    "* Permite trabajar con datos de una variedad amplia de fuentes.\n",
    "* Algunos comparan a Pandas con una versión muy potente de Ms Excel, con muchas más características.\n",
    "\n",
    "En esta Sección aprenderemos a usar Pandas para realizar análisis de datos. Estudiaremos los siguientes elementos:\n",
    "* Series\n",
    "* DataFrames\n",
    "* Datos faltantes\n",
    "* Agrupaciones y agregaciones: GroupBy\n",
    "* Combinaciones y concatenaciones (Merging, Joining, and Concatenating)\n",
    "* Operaciones\n",
    "* Entrada/Salida de datos\n",
    "\n",
    "## Instalación\n",
    "\n",
    "Si aún no tiene instalado Pandas:\n",
    "> conda install pandas\n",
    "\n",
    "o\n",
    "\n",
    "> pip install pandas\n",
    "\n",
    "\n",
    "\n",
    "# Series"
   ]
  },
  {
   "cell_type": "markdown",
   "metadata": {
    "colab_type": "text",
    "id": "Gk_1cIe1DF_O"
   },
   "source": [
    "El primer tipo de datos que estudiaremos en Pandas es el tipo de datos de series. \n",
    "\n",
    "**Una serie es muy similar a un arreglo de NumPy** (de hecho está construida sobre el objeto array de NumPy). Lo que diferencia los arrays de NumPy de las series, es que **una serie puede tener etiquetas de eje, lo que significa que puede ser indexada por una etiqueta, en lugar de solo un índice numérico**. Tampoco necesita contener únicamente datos numéricos, puede contener cualquier Objeto de Python.\n"
   ]
  },
  {
   "cell_type": "code",
   "execution_count": null,
   "metadata": {
    "colab": {
     "autoexec": {
      "startup": false,
      "wait_interval": 0
     }
    },
    "colab_type": "code",
    "collapsed": true,
    "id": "f-SNW5p2DF_Q"
   },
   "outputs": [],
   "source": [
    "# Vamos a importar la librería Pandas y explorar el objeto Series.\n",
    "import numpy as np\n",
    "import pandas as pd"
   ]
  },
  {
   "cell_type": "markdown",
   "metadata": {
    "colab_type": "text",
    "id": "92gbxY0YDF_V"
   },
   "source": [
    "## Creación de Series\n",
    "\n",
    "Es posible convertir una lista, un arreglo de NumPy, o un diccionario, en una Serie:"
   ]
  },
  {
   "cell_type": "code",
   "execution_count": null,
   "metadata": {
    "colab": {
     "autoexec": {
      "startup": false,
      "wait_interval": 0
     }
    },
    "colab_type": "code",
    "collapsed": true,
    "id": "HP6SUGBaDF_W"
   },
   "outputs": [],
   "source": [
    "etiquetas = ['a','b','c']\n",
    "lista = [10,20,30]\n",
    "arreglo = np.array([10,20,30])\n",
    "diccionario = {'a':10,'b':20,'c':30}"
   ]
  },
  {
   "cell_type": "markdown",
   "metadata": {
    "colab_type": "text",
    "id": "Wi9GxokiDF_a"
   },
   "source": [
    "** A partir de una Lista**"
   ]
  },
  {
   "cell_type": "code",
   "execution_count": null,
   "metadata": {
    "colab": {
     "autoexec": {
      "startup": false,
      "wait_interval": 0
     },
     "base_uri": "https://localhost:8080/",
     "height": 85,
     "output_extras": [
      {
       "item_id": 1
      }
     ]
    },
    "colab_type": "code",
    "executionInfo": {
     "elapsed": 892,
     "status": "ok",
     "timestamp": 1520352155142,
     "user": {
      "displayName": "Felipe Restrepo Calle",
      "photoUrl": "https://lh3.googleusercontent.com/a/default-user=s128",
      "userId": "116896352191091334942"
     },
     "user_tz": 300
    },
    "id": "yab917TjDF_b",
    "outputId": "1f0f87e1-3ee6-4620-ba53-afa4f0bc66fb"
   },
   "outputs": [],
   "source": [
    "pd.Series(data=lista)"
   ]
  },
  {
   "cell_type": "code",
   "execution_count": null,
   "metadata": {
    "colab": {
     "autoexec": {
      "startup": false,
      "wait_interval": 0
     },
     "base_uri": "https://localhost:8080/",
     "height": 85,
     "output_extras": [
      {
       "item_id": 1
      }
     ]
    },
    "colab_type": "code",
    "executionInfo": {
     "elapsed": 1002,
     "status": "ok",
     "timestamp": 1520352160549,
     "user": {
      "displayName": "Felipe Restrepo Calle",
      "photoUrl": "https://lh3.googleusercontent.com/a/default-user=s128",
      "userId": "116896352191091334942"
     },
     "user_tz": 300
    },
    "id": "80IN0EWKDF_f",
    "outputId": "25ff1b6e-89d9-4fbc-81f3-d341c838a320"
   },
   "outputs": [],
   "source": [
    "pd.Series(data=lista,index=etiquetas)"
   ]
  },
  {
   "cell_type": "code",
   "execution_count": null,
   "metadata": {
    "colab": {
     "autoexec": {
      "startup": false,
      "wait_interval": 0
     },
     "output_extras": [
      {}
     ]
    },
    "colab_type": "code",
    "id": "e_N8bwS1DF_h",
    "outputId": "e9a1c833-11f9-454e-9764-e1524d9ff418"
   },
   "outputs": [],
   "source": [
    "pd.Series(lista,etiquetas)"
   ]
  },
  {
   "cell_type": "markdown",
   "metadata": {
    "colab_type": "text",
    "id": "6Uub2ZgzDF_k"
   },
   "source": [
    "** A partir de arreglos de NumPy **"
   ]
  },
  {
   "cell_type": "code",
   "execution_count": null,
   "metadata": {
    "colab": {
     "autoexec": {
      "startup": false,
      "wait_interval": 0
     },
     "output_extras": [
      {}
     ]
    },
    "colab_type": "code",
    "id": "_sNvfoKFDF_k",
    "outputId": "4bca5171-9bd3-429d-9d14-e7153ba52a27"
   },
   "outputs": [],
   "source": [
    "pd.Series(arreglo)"
   ]
  },
  {
   "cell_type": "code",
   "execution_count": null,
   "metadata": {
    "colab": {
     "autoexec": {
      "startup": false,
      "wait_interval": 0
     },
     "output_extras": [
      {}
     ]
    },
    "colab_type": "code",
    "id": "dhnJFUG0DF_n",
    "outputId": "f06ad02d-4e1a-4d75-d0fa-6ab58d852050"
   },
   "outputs": [],
   "source": [
    "pd.Series(arreglo,etiquetas)"
   ]
  },
  {
   "cell_type": "markdown",
   "metadata": {
    "colab_type": "text",
    "id": "IT60mdTQDF_q"
   },
   "source": [
    "** A partir de un diccionario **"
   ]
  },
  {
   "cell_type": "code",
   "execution_count": null,
   "metadata": {
    "colab": {
     "autoexec": {
      "startup": false,
      "wait_interval": 0
     },
     "output_extras": [
      {}
     ]
    },
    "colab_type": "code",
    "id": "JGVtW5anDF_q",
    "outputId": "38d3777f-7ad8-47c7-b2ed-2d3668ac989f"
   },
   "outputs": [],
   "source": [
    "pd.Series(diccionario)"
   ]
  },
  {
   "cell_type": "markdown",
   "metadata": {
    "colab_type": "text",
    "id": "hETJnIERDF_t"
   },
   "source": [
    "## Datos almacenados en Series\n",
    "\n",
    "Las Series en Pandas pueden almacenar cualquier objeto de Python, no solo números:"
   ]
  },
  {
   "cell_type": "code",
   "execution_count": null,
   "metadata": {},
   "outputs": [],
   "source": [
    "# Números\n",
    "pd.Series(data=arreglo)"
   ]
  },
  {
   "cell_type": "code",
   "execution_count": null,
   "metadata": {
    "colab": {
     "autoexec": {
      "startup": false,
      "wait_interval": 0
     },
     "output_extras": [
      {}
     ]
    },
    "colab_type": "code",
    "id": "V6XQBICCDF_t",
    "outputId": "a81058b8-a8fb-4115-8dec-a54fcf2af7a8"
   },
   "outputs": [],
   "source": [
    "# También pueden almacenar cadenas\n",
    "pd.Series(data=etiquetas)"
   ]
  },
  {
   "cell_type": "code",
   "execution_count": null,
   "metadata": {
    "colab": {
     "autoexec": {
      "startup": false,
      "wait_interval": 0
     },
     "output_extras": [
      {}
     ]
    },
    "colab_type": "code",
    "id": "buFdOGD6DF_v",
    "outputId": "6368939c-9ddd-463a-a537-c396b17a91f8"
   },
   "outputs": [],
   "source": [
    "# Incluso una Serie puede almacenar funciones (aunque esto es poco probable que se necesite)\n",
    "pd.Series([sum,print,len])"
   ]
  },
  {
   "cell_type": "markdown",
   "metadata": {
    "colab_type": "text",
    "id": "zEexdoeeDF_y"
   },
   "source": [
    "## Usando los índices\n",
    "\n",
    "Los índices son la clave para entender cómo usar las Series. Pandas usa los nombres de los índices o sus números para permitir la búsqueda rápida de información (funcionan como una tabla hash o un diccionario).\n",
    "\n",
    "Para el ejemplo, vamos a crear 2 Series: ser1 y ser2"
   ]
  },
  {
   "cell_type": "code",
   "execution_count": null,
   "metadata": {
    "colab": {
     "autoexec": {
      "startup": false,
      "wait_interval": 0
     }
    },
    "colab_type": "code",
    "collapsed": true,
    "id": "uyrP6YGADF_z"
   },
   "outputs": [],
   "source": [
    "ser1 = pd.Series([10,20,30,40],index = ['Colombia', 'Germany','Spain', 'Japan'])                                   "
   ]
  },
  {
   "cell_type": "code",
   "execution_count": null,
   "metadata": {
    "colab": {
     "autoexec": {
      "startup": false,
      "wait_interval": 0
     },
     "output_extras": [
      {}
     ]
    },
    "colab_type": "code",
    "id": "Qkta9J3EDF_1",
    "outputId": "db776a81-3479-4d73-a05c-183a725342a2"
   },
   "outputs": [],
   "source": [
    "ser1"
   ]
  },
  {
   "cell_type": "code",
   "execution_count": null,
   "metadata": {
    "colab": {
     "autoexec": {
      "startup": false,
      "wait_interval": 0
     }
    },
    "colab_type": "code",
    "collapsed": true,
    "id": "m9DEmy8ADF_3"
   },
   "outputs": [],
   "source": [
    "ser2 = pd.Series([1,2,5,4],index = ['Germany','Colombia','Italy', 'Japan'])                                   "
   ]
  },
  {
   "cell_type": "code",
   "execution_count": null,
   "metadata": {
    "colab": {
     "autoexec": {
      "startup": false,
      "wait_interval": 0
     },
     "output_extras": [
      {}
     ]
    },
    "colab_type": "code",
    "id": "P7Qhd32zDF_5",
    "outputId": "4edbad1b-62a2-4403-c85d-bac68cc2bf3e"
   },
   "outputs": [],
   "source": [
    "ser2"
   ]
  },
  {
   "cell_type": "code",
   "execution_count": null,
   "metadata": {
    "colab": {
     "autoexec": {
      "startup": false,
      "wait_interval": 0
     },
     "output_extras": [
      {}
     ]
    },
    "colab_type": "code",
    "id": "bd0RZ5XcDF_8",
    "outputId": "24685a71-b7f1-4173-84c4-3fa535fb1b00"
   },
   "outputs": [],
   "source": [
    "ser1['Japan']"
   ]
  },
  {
   "cell_type": "code",
   "execution_count": null,
   "metadata": {},
   "outputs": [],
   "source": [
    "ser1[3]"
   ]
  },
  {
   "cell_type": "markdown",
   "metadata": {
    "colab_type": "text",
    "id": "OtNtu3w5DF_-"
   },
   "source": [
    "También, se pueden hacer operaciones entre Series:"
   ]
  },
  {
   "cell_type": "code",
   "execution_count": null,
   "metadata": {
    "colab": {
     "autoexec": {
      "startup": false,
      "wait_interval": 0
     },
     "output_extras": [
      {}
     ]
    },
    "colab_type": "code",
    "id": "bUOKsyVNDF_-",
    "outputId": "f45cb0d2-87a6-4a31-c25c-98a76bdf4d28"
   },
   "outputs": [],
   "source": [
    "ser1 + ser2"
   ]
  },
  {
   "cell_type": "code",
   "execution_count": null,
   "metadata": {},
   "outputs": [],
   "source": [
    "ser1 / ser2"
   ]
  }
 ],
 "metadata": {
  "colab": {
   "default_view": {},
   "name": "0_Pandas_Series.ipynb",
   "provenance": [],
   "version": "0.3.2",
   "views": {}
  },
  "kernelspec": {
   "display_name": "Python 3",
   "language": "python",
   "name": "python3"
  },
  "language_info": {
   "codemirror_mode": {
    "name": "ipython",
    "version": 3
   },
   "file_extension": ".py",
   "mimetype": "text/x-python",
   "name": "python",
   "nbconvert_exporter": "python",
   "pygments_lexer": "ipython3",
   "version": "3.6.3"
  }
 },
 "nbformat": 4,
 "nbformat_minor": 1
}
