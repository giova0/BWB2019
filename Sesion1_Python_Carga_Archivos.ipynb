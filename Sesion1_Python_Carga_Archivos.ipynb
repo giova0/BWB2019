{
 "cells": [
  {
   "cell_type": "markdown",
   "metadata": {},
   "source": [
    "# Carga de Archivos"
   ]
  },
  {
   "cell_type": "markdown",
   "metadata": {},
   "source": [
    "**Python** permite cargar archivos de dos maneras. La primera permite cargar archivos planos como json, csv o archivos planos. La segunda permite cargar objetos de **Python**, que han sido serializados y almacenados previamente en disco duro."
   ]
  },
  {
   "cell_type": "markdown",
   "metadata": {},
   "source": [
    "## Cargando JSON"
   ]
  },
  {
   "cell_type": "markdown",
   "metadata": {},
   "source": [
    "Cargaremos dos datasets usando el módulo `json`. Uno contiene información básica acerca de algunos restaurantes en Nueva York. El segundo contiene información relevante de la serie Juego de Tronos."
   ]
  },
  {
   "cell_type": "code",
   "execution_count": 1,
   "metadata": {},
   "outputs": [],
   "source": [
    "import json\n",
    "from pprint import pprint\n",
    "\n",
    "with open('data/file_load/restaurantes.json') as data_file:    \n",
    "    data = json.load(data_file)"
   ]
  },
  {
   "cell_type": "markdown",
   "metadata": {},
   "source": [
    "`restaurantes.json` es una lista de diccionarios."
   ]
  },
  {
   "cell_type": "code",
   "execution_count": null,
   "metadata": {},
   "outputs": [],
   "source": []
  },
  {
   "cell_type": "code",
   "execution_count": 2,
   "metadata": {},
   "outputs": [
    {
     "data": {
      "text/plain": [
       "[{'name': 'Cheesecake Factory', 'cuisine': 'American', 'id': 1},\n",
       " {'name': 'Shokolaat', 'cuisine': 'American', 'id': 2},\n",
       " {'name': 'Gordon Biersch', 'cuisine': 'American', 'id': 3},\n",
       " {'name': 'Crepevine', 'cuisine': 'American', 'id': 4},\n",
       " {'name': 'Creamery', 'cuisine': 'American', 'id': 5}]"
      ]
     },
     "execution_count": 2,
     "metadata": {},
     "output_type": "execute_result"
    }
   ],
   "source": [
    "data[:5]"
   ]
  },
  {
   "cell_type": "code",
   "execution_count": 3,
   "metadata": {},
   "outputs": [
    {
     "name": "stdout",
     "output_type": "stream",
     "text": [
      "{'cuisine': 'American', 'id': 1, 'name': 'Cheesecake Factory'}\n"
     ]
    }
   ],
   "source": [
    "pprint(data[0])"
   ]
  },
  {
   "cell_type": "markdown",
   "metadata": {},
   "source": [
    "Cargamos el dataset `game_of_thrones.json` y examinamos su contenido"
   ]
  },
  {
   "cell_type": "code",
   "execution_count": 4,
   "metadata": {},
   "outputs": [],
   "source": [
    "with open('data/file_load/game_of_thrones.json') as data_file:    \n",
    "    data = json.load(data_file)"
   ]
  },
  {
   "cell_type": "markdown",
   "metadata": {},
   "source": [
    "El dataset consiste en un diccionario, cuyas claves corresponden a diferentes atributos de la serie."
   ]
  },
  {
   "cell_type": "code",
   "execution_count": 61,
   "metadata": {},
   "outputs": [
    {
     "name": "stdout",
     "output_type": "stream",
     "text": [
      "dict_keys(['id', 'url', 'name', 'type', 'language', 'genres', 'status', 'runtime', 'premiered', 'officialSite', 'schedule', 'rating', 'weight', 'network', 'webChannel', 'externals', 'image', 'summary', 'updated', '_links', '_embedded'])\n"
     ]
    }
   ],
   "source": [
    "print (data.keys())"
   ]
  },
  {
   "cell_type": "markdown",
   "metadata": {},
   "source": [
    "Tambien alberga información de cada capítulo a 2017"
   ]
  },
  {
   "cell_type": "code",
   "execution_count": 6,
   "metadata": {},
   "outputs": [
    {
     "name": "stdout",
     "output_type": "stream",
     "text": [
      "67\n"
     ]
    }
   ],
   "source": [
    "print (len(data['_embedded']['episodes']))"
   ]
  },
  {
   "cell_type": "code",
   "execution_count": 32,
   "metadata": {},
   "outputs": [
    {
     "name": "stdout",
     "output_type": "stream",
     "text": [
      "Winter is Coming\n",
      "The Kingsroad\n",
      "Lord Snow\n",
      "Cripples, Bastards, and Broken Things\n",
      "The Wolf and the Lion\n",
      "A Golden Crown\n",
      "You Win or You Die\n",
      "The Pointy End\n",
      "Baelor\n",
      "Fire and Blood\n",
      "The North Remembers\n",
      "The Night Lands\n",
      "What is Dead May Never Die\n",
      "Garden of Bones\n",
      "The Ghost of Harrenhal\n",
      "The Old Gods and the New\n",
      "A Man Without Honor\n",
      "The Prince of Winterfell\n",
      "Blackwater\n",
      "Valar Morghulis\n",
      "Valar Dohaeris\n",
      "Dark Wings, Dark Words\n",
      "Walk of Punishment\n",
      "And Now His Watch is Ended\n",
      "Kissed by Fire\n",
      "The Climb\n",
      "The Bear and the Maiden Fair\n",
      "Second Sons\n",
      "The Rains of Castamere\n",
      "Mhysa\n",
      "Two Swords\n",
      "The Lion and the Rose\n",
      "Breaker of Chains\n",
      "Oathkeeper\n",
      "First of His Name\n",
      "The Laws of Gods and Men\n",
      "Mockingbird\n",
      "The Mountain and the Viper\n",
      "The Watchers on the Wall\n",
      "The Children\n",
      "The Wars to Come\n",
      "The House of Black and White\n",
      "High Sparrow\n",
      "Sons of the Harpy\n",
      "Kill the Boy\n",
      "Unbowed, Unbent, Unbroken\n",
      "The Gift\n",
      "Hardhome\n",
      "The Dance of Dragons\n",
      "Mother's Mercy\n",
      "The Red Woman\n",
      "Home\n",
      "Oathbreaker\n",
      "Book of the Stranger\n",
      "The Door\n",
      "Blood of My Blood\n",
      "The Broken Man\n",
      "No One\n",
      "Battle of the Bastards\n",
      "The Winds of Winter\n",
      "Dragonstone\n",
      "Stormborn\n",
      "The Queen's Justice\n",
      "The Spoils of War\n",
      "Eastwatch\n",
      "Beyond the Wall\n",
      "The Dragon and the Wolf\n"
     ]
    }
   ],
   "source": [
    "test1 = data['_embedded']['episodes']\n",
    "for movie in test1:\n",
    "    print (movie['name'])"
   ]
  },
  {
   "cell_type": "code",
   "execution_count": 7,
   "metadata": {},
   "outputs": [
    {
     "name": "stdout",
     "output_type": "stream",
     "text": [
      "[{'_links': {'self': {'href': 'http://api.tvmaze.com/episodes/1221411'}},\n",
      "  'airdate': '2017-07-30',\n",
      "  'airstamp': '2017-07-31T01:00:00+00:00',\n",
      "  'airtime': '21:00',\n",
      "  'id': 1221411,\n",
      "  'image': {'medium': 'http://static.tvmaze.com/uploads/images/medium_landscape/122/306938.jpg',\n",
      "            'original': 'http://static.tvmaze.com/uploads/images/original_untouched/122/306938.jpg'},\n",
      "  'name': \"The Queen's Justice\",\n",
      "  'number': 3,\n",
      "  'runtime': 60,\n",
      "  'season': 7,\n",
      "  'summary': '<p>Daenerys holds court. Cersei returns a gift. Jaime learns '\n",
      "             'from his mistakes.</p>',\n",
      "  'url': 'http://www.tvmaze.com/episodes/1221411/game-of-thrones-7x03-the-queens-justice'},\n",
      " {'_links': {'self': {'href': 'http://api.tvmaze.com/episodes/1221412'}},\n",
      "  'airdate': '2017-08-06',\n",
      "  'airstamp': '2017-08-07T01:00:00+00:00',\n",
      "  'airtime': '21:00',\n",
      "  'id': 1221412,\n",
      "  'image': {'medium': 'http://static.tvmaze.com/uploads/images/medium_landscape/123/307677.jpg',\n",
      "            'original': 'http://static.tvmaze.com/uploads/images/original_untouched/123/307677.jpg'},\n",
      "  'name': 'The Spoils of War',\n",
      "  'number': 4,\n",
      "  'runtime': 60,\n",
      "  'season': 7,\n",
      "  'summary': '<p>Arya gets to the final destination. Daenerys takes it upon '\n",
      "             'herself to strike back.</p>',\n",
      "  'url': 'http://www.tvmaze.com/episodes/1221412/game-of-thrones-7x04-the-spoils-of-war'},\n",
      " {'_links': {'self': {'href': 'http://api.tvmaze.com/episodes/1221413'}},\n",
      "  'airdate': '2017-08-13',\n",
      "  'airstamp': '2017-08-14T01:00:00+00:00',\n",
      "  'airtime': '21:00',\n",
      "  'id': 1221413,\n",
      "  'image': {'medium': 'http://static.tvmaze.com/uploads/images/medium_landscape/124/310839.jpg',\n",
      "            'original': 'http://static.tvmaze.com/uploads/images/original_untouched/124/310839.jpg'},\n",
      "  'name': 'Eastwatch',\n",
      "  'number': 5,\n",
      "  'runtime': 60,\n",
      "  'season': 7,\n",
      "  'summary': '<p>Daenerys demands loyalty from the surviving Lannister '\n",
      "             \"soldiers; Jon heeds Bran's warning about White Walkers on the \"\n",
      "             'move; Cersei vows to vanquish anyone or anything that stands in '\n",
      "             'her way.</p>',\n",
      "  'url': 'http://www.tvmaze.com/episodes/1221413/game-of-thrones-7x05-eastwatch'},\n",
      " {'_links': {'self': {'href': 'http://api.tvmaze.com/episodes/1221414'}},\n",
      "  'airdate': '2017-08-20',\n",
      "  'airstamp': '2017-08-21T01:00:00+00:00',\n",
      "  'airtime': '21:00',\n",
      "  'id': 1221414,\n",
      "  'image': {'medium': 'http://static.tvmaze.com/uploads/images/medium_landscape/125/312651.jpg',\n",
      "            'original': 'http://static.tvmaze.com/uploads/images/original_untouched/125/312651.jpg'},\n",
      "  'name': 'Beyond the Wall',\n",
      "  'number': 6,\n",
      "  'runtime': 60,\n",
      "  'season': 7,\n",
      "  'summary': \"<p>Jon's mission continues north of the wall, but the odds \"\n",
      "             'against his ragged band of misfits may be greater than he '\n",
      "             'imagined.</p>',\n",
      "  'url': 'http://www.tvmaze.com/episodes/1221414/game-of-thrones-7x06-beyond-the-wall'},\n",
      " {'_links': {'self': {'href': 'http://api.tvmaze.com/episodes/1221415'}},\n",
      "  'airdate': '2017-08-27',\n",
      "  'airstamp': '2017-08-28T01:00:00+00:00',\n",
      "  'airtime': '21:00',\n",
      "  'id': 1221415,\n",
      "  'image': {'medium': 'http://static.tvmaze.com/uploads/images/medium_landscape/125/314502.jpg',\n",
      "            'original': 'http://static.tvmaze.com/uploads/images/original_untouched/125/314502.jpg'},\n",
      "  'name': 'The Dragon and the Wolf',\n",
      "  'number': 7,\n",
      "  'runtime': 60,\n",
      "  'season': 7,\n",
      "  'summary': '<p>Cersei sits on the Iron Throne; Daenerys sails across the '\n",
      "             'Narrow Sea; Jon Snow is King in the North, and winter is finally '\n",
      "             'here.</p>',\n",
      "  'url': 'http://www.tvmaze.com/episodes/1221415/game-of-thrones-7x07-the-dragon-and-the-wolf'}]\n"
     ]
    }
   ],
   "source": [
    "pprint(data['_embedded']['episodes'][-5:])"
   ]
  },
  {
   "cell_type": "markdown",
   "metadata": {},
   "source": [
    "## Cargando CSV"
   ]
  },
  {
   "cell_type": "markdown",
   "metadata": {},
   "source": [
    "A continuación cargaremos un archivo separado por el caracter `|`. Corresponden a datos personales de usuarios de una red social de calificación de películas"
   ]
  },
  {
   "cell_type": "code",
   "execution_count": 8,
   "metadata": {},
   "outputs": [],
   "source": [
    "import csv\n",
    "with open('data/file_load/user-data.csv', 'r') as csvfile:\n",
    "    user_data = csv.reader(csvfile, delimiter='|')\n",
    "    data = list(user_data)"
   ]
  },
  {
   "cell_type": "markdown",
   "metadata": {},
   "source": [
    "Explorando data, encontramos que cada registro corresponde a un usuario. La información allí mostrada corresponde a un identificador único, edad, género, ocupación y zip code."
   ]
  },
  {
   "cell_type": "code",
   "execution_count": 9,
   "metadata": {},
   "outputs": [
    {
     "data": {
      "text/plain": [
       "[['1', '24', 'M', 'technician', '85711'],\n",
       " ['2', '53', 'F', 'other', '94043'],\n",
       " ['3', '23', 'M', 'writer', '32067'],\n",
       " ['4', '24', 'M', 'technician', '43537'],\n",
       " ['5', '33', 'F', 'other', '15213']]"
      ]
     },
     "execution_count": 9,
     "metadata": {},
     "output_type": "execute_result"
    }
   ],
   "source": [
    "data[:5]"
   ]
  },
  {
   "cell_type": "markdown",
   "metadata": {},
   "source": [
    "## Cargando texto plano"
   ]
  },
  {
   "cell_type": "markdown",
   "metadata": {},
   "source": [
    "A continuación cargaremos un archivo de texto que contiene las obras de Shakespeare. El archivo será cargado como una lista de strings, donde cada elemento corresponde a una línea del archivo de texto."
   ]
  },
  {
   "cell_type": "code",
   "execution_count": 10,
   "metadata": {},
   "outputs": [],
   "source": [
    "with open(\"data/file_load/shakespeare.txt\") as f:  \n",
    "    data = f.readlines()"
   ]
  },
  {
   "cell_type": "code",
   "execution_count": 11,
   "metadata": {},
   "outputs": [
    {
     "data": {
      "text/plain": [
       "list"
      ]
     },
     "execution_count": 11,
     "metadata": {},
     "output_type": "execute_result"
    }
   ],
   "source": [
    "type(data)"
   ]
  },
  {
   "cell_type": "code",
   "execution_count": 12,
   "metadata": {},
   "outputs": [
    {
     "data": {
      "text/plain": [
       "124614"
      ]
     },
     "execution_count": 12,
     "metadata": {},
     "output_type": "execute_result"
    }
   ],
   "source": [
    "len(data)"
   ]
  },
  {
   "cell_type": "code",
   "execution_count": 13,
   "metadata": {},
   "outputs": [
    {
     "data": {
      "text/plain": [
       "['1609\\n',\n",
       " '\\n',\n",
       " 'THE SONNETS\\n',\n",
       " '\\n',\n",
       " 'by William Shakespeare\\n',\n",
       " '\\n',\n",
       " '\\n',\n",
       " '\\n',\n",
       " '                     1\\n',\n",
       " '  From fairest creatures we desire increase,\\n',\n",
       " \"  That thereby beauty's rose might never die,\\n\",\n",
       " '  But as the riper should by time decease,\\n',\n",
       " '  His tender heir might bear his memory:\\n',\n",
       " '  But thou contracted to thine own bright eyes,\\n',\n",
       " \"  Feed'st thy light's flame with self-substantial fuel,\\n\"]"
      ]
     },
     "execution_count": 13,
     "metadata": {},
     "output_type": "execute_result"
    }
   ],
   "source": [
    "data[:15]"
   ]
  },
  {
   "cell_type": "markdown",
   "metadata": {},
   "source": [
    "## Cargando Pickle"
   ]
  },
  {
   "cell_type": "markdown",
   "metadata": {},
   "source": [
    "[**Pickle**](https://wiki.python.org/moin/UsingPickle) nos permite serializar casi todo tipo de objetos en Python. Sin embargo, existen elementos como clases, funciones y metodos que no pueden ser almacenados usando Pickle. Cuando se almacene una instancia de una clase, Pickle no almacenará la clase del objeto, sino una cadena de caracteres que identifique a qué clase pertenece el objeto. \n",
    "\n",
    "A continuación usaremos el conjunto de datos de usuarios del sitio de revisión de películas y almacenaremos los primeros cinco usuarios usando Pickle. Posteriormente los cargaremos usando también Pickle."
   ]
  },
  {
   "cell_type": "code",
   "execution_count": 14,
   "metadata": {},
   "outputs": [],
   "source": [
    "import pickle\n",
    "\n",
    "with open('data/file_load/user-data.csv', 'r') as csvfile:\n",
    "    user_data = csv.reader(csvfile, delimiter='|')\n",
    "    data = list(user_data)"
   ]
  },
  {
   "cell_type": "code",
   "execution_count": 15,
   "metadata": {},
   "outputs": [
    {
     "data": {
      "text/plain": [
       "[['939', '26', 'F', 'student', '33319'],\n",
       " ['940', '32', 'M', 'administrator', '02215'],\n",
       " ['941', '20', 'M', 'student', '97229'],\n",
       " ['942', '48', 'F', 'librarian', '78209'],\n",
       " ['943', '22', 'M', 'student', '77841']]"
      ]
     },
     "execution_count": 15,
     "metadata": {},
     "output_type": "execute_result"
    }
   ],
   "source": [
    "data[-5:]"
   ]
  },
  {
   "cell_type": "code",
   "execution_count": 16,
   "metadata": {},
   "outputs": [],
   "source": [
    "pickle.dump(data[-5:], open(\"data/file_load/user_data.pkl\", \"wb\"))"
   ]
  },
  {
   "cell_type": "markdown",
   "metadata": {},
   "source": [
    "Ahora cargamos el archivo pickle de la siguiente manera:"
   ]
  },
  {
   "cell_type": "code",
   "execution_count": 17,
   "metadata": {},
   "outputs": [],
   "source": [
    "user_data = pickle.load(open(\"data/file_load/user_data.pkl\", \"rb\" ))"
   ]
  },
  {
   "cell_type": "code",
   "execution_count": 18,
   "metadata": {},
   "outputs": [
    {
     "data": {
      "text/plain": [
       "[['939', '26', 'F', 'student', '33319'],\n",
       " ['940', '32', 'M', 'administrator', '02215'],\n",
       " ['941', '20', 'M', 'student', '97229'],\n",
       " ['942', '48', 'F', 'librarian', '78209'],\n",
       " ['943', '22', 'M', 'student', '77841']]"
      ]
     },
     "execution_count": 18,
     "metadata": {},
     "output_type": "execute_result"
    }
   ],
   "source": [
    "user_data"
   ]
  }
 ],
 "metadata": {
  "kernelspec": {
   "display_name": "Python 3",
   "language": "python",
   "name": "python3"
  },
  "language_info": {
   "codemirror_mode": {
    "name": "ipython",
    "version": 3
   },
   "file_extension": ".py",
   "mimetype": "text/x-python",
   "name": "python",
   "nbconvert_exporter": "python",
   "pygments_lexer": "ipython3",
   "version": "3.7.1"
  }
 },
 "nbformat": 4,
 "nbformat_minor": 2
}
