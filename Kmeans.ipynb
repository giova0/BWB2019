{
 "cells": [
  {
   "cell_type": "markdown",
   "metadata": {},
   "source": [
    "# CLUSTERING"
   ]
  },
  {
   "cell_type": "markdown",
   "metadata": {},
   "source": [
    "Agrupar usuarios Twitter de acuerdo a su personalidad con K-means"
   ]
  },
  {
   "cell_type": "code",
   "execution_count": 2,
   "metadata": {},
   "outputs": [],
   "source": [
    "# Ejercicio esta hecho sobre python 3.5, pero se puede usar python 2.7\n",
    "\n",
    "# importando modulos que se van a usar\n",
    "\n",
    "import pandas as pd\n",
    "import numpy as np\n",
    "import seaborn as sb\n",
    "import matplotlib.pyplot as plt\n",
    "from sklearn.cluster import KMeans\n",
    "from sklearn.metrics import pairwise_distances_argmin_min"
   ]
  },
  {
   "cell_type": "code",
   "execution_count": 3,
   "metadata": {},
   "outputs": [
    {
     "name": "stdout",
     "output_type": "stream",
     "text": [
      "Escriba el PATH directorio / carpeta de su archivo de analisisC:\\Users\\lc.mojica639\\Documents\\Cientificas de Datos\\Bootcamp\\\n"
     ]
    }
   ],
   "source": [
    "pathArchivos = input(\"Escriba el PATH directorio / carpeta de su archivo de analisis\")"
   ]
  },
  {
   "cell_type": "code",
   "execution_count": 4,
   "metadata": {},
   "outputs": [
    {
     "data": {
      "text/plain": [
       "'C:\\\\Users\\\\lc.mojica639\\\\Documents\\\\Cientificas de Datos\\\\Bootcamp\\\\'"
      ]
     },
     "execution_count": 4,
     "metadata": {},
     "output_type": "execute_result"
    }
   ],
   "source": [
    "pathArchivos"
   ]
  },
  {
   "cell_type": "code",
   "execution_count": 5,
   "metadata": {},
   "outputs": [],
   "source": [
    "#importar archivo\n",
    "dfAnalisis = pd.read_csv(pathArchivos + \"analisis.csv\")"
   ]
  },
  {
   "cell_type": "code",
   "execution_count": 6,
   "metadata": {},
   "outputs": [
    {
     "data": {
      "text/html": [
       "<div>\n",
       "<style scoped>\n",
       "    .dataframe tbody tr th:only-of-type {\n",
       "        vertical-align: middle;\n",
       "    }\n",
       "\n",
       "    .dataframe tbody tr th {\n",
       "        vertical-align: top;\n",
       "    }\n",
       "\n",
       "    .dataframe thead th {\n",
       "        text-align: right;\n",
       "    }\n",
       "</style>\n",
       "<table border=\"1\" class=\"dataframe\">\n",
       "  <thead>\n",
       "    <tr style=\"text-align: right;\">\n",
       "      <th></th>\n",
       "      <th>usuario</th>\n",
       "      <th>op</th>\n",
       "      <th>co</th>\n",
       "      <th>ex</th>\n",
       "      <th>ag</th>\n",
       "      <th>ne</th>\n",
       "      <th>wordcount</th>\n",
       "      <th>categoria</th>\n",
       "    </tr>\n",
       "  </thead>\n",
       "  <tbody>\n",
       "    <tr>\n",
       "      <th>0</th>\n",
       "      <td>3gerardpique</td>\n",
       "      <td>34.297953</td>\n",
       "      <td>28.148819</td>\n",
       "      <td>41.948819</td>\n",
       "      <td>29.370315</td>\n",
       "      <td>9.841575</td>\n",
       "      <td>37.0945</td>\n",
       "      <td>7</td>\n",
       "    </tr>\n",
       "    <tr>\n",
       "      <th>1</th>\n",
       "      <td>aguerosergiokun</td>\n",
       "      <td>44.986842</td>\n",
       "      <td>20.525865</td>\n",
       "      <td>37.938947</td>\n",
       "      <td>24.279098</td>\n",
       "      <td>10.362406</td>\n",
       "      <td>78.7970</td>\n",
       "      <td>7</td>\n",
       "    </tr>\n",
       "    <tr>\n",
       "      <th>2</th>\n",
       "      <td>albertochicote</td>\n",
       "      <td>41.733854</td>\n",
       "      <td>13.745417</td>\n",
       "      <td>38.999896</td>\n",
       "      <td>34.645521</td>\n",
       "      <td>8.836979</td>\n",
       "      <td>49.2604</td>\n",
       "      <td>4</td>\n",
       "    </tr>\n",
       "    <tr>\n",
       "      <th>3</th>\n",
       "      <td>AlejandroSanz</td>\n",
       "      <td>40.377154</td>\n",
       "      <td>15.377462</td>\n",
       "      <td>52.337538</td>\n",
       "      <td>31.082154</td>\n",
       "      <td>5.032231</td>\n",
       "      <td>80.4538</td>\n",
       "      <td>2</td>\n",
       "    </tr>\n",
       "    <tr>\n",
       "      <th>4</th>\n",
       "      <td>alfredocasero1</td>\n",
       "      <td>36.664677</td>\n",
       "      <td>19.642258</td>\n",
       "      <td>48.530806</td>\n",
       "      <td>31.138871</td>\n",
       "      <td>7.305968</td>\n",
       "      <td>47.0645</td>\n",
       "      <td>4</td>\n",
       "    </tr>\n",
       "  </tbody>\n",
       "</table>\n",
       "</div>"
      ],
      "text/plain": [
       "           usuario         op         co         ex         ag         ne  \\\n",
       "0     3gerardpique  34.297953  28.148819  41.948819  29.370315   9.841575   \n",
       "1  aguerosergiokun  44.986842  20.525865  37.938947  24.279098  10.362406   \n",
       "2   albertochicote  41.733854  13.745417  38.999896  34.645521   8.836979   \n",
       "3    AlejandroSanz  40.377154  15.377462  52.337538  31.082154   5.032231   \n",
       "4   alfredocasero1  36.664677  19.642258  48.530806  31.138871   7.305968   \n",
       "\n",
       "   wordcount  categoria  \n",
       "0    37.0945          7  \n",
       "1    78.7970          7  \n",
       "2    49.2604          4  \n",
       "3    80.4538          2  \n",
       "4    47.0645          4  "
      ]
     },
     "execution_count": 6,
     "metadata": {},
     "output_type": "execute_result"
    }
   ],
   "source": [
    "dfAnalisis.head()"
   ]
  },
  {
   "cell_type": "code",
   "execution_count": 9,
   "metadata": {},
   "outputs": [
    {
     "data": {
      "text/plain": [
       "(140, 3)"
      ]
     },
     "execution_count": 9,
     "metadata": {},
     "output_type": "execute_result"
    }
   ],
   "source": [
    "X = np.array(dfAnalisis[[\"op\",\"ex\",\"ag\"]])\n",
    "y = np.array(dfAnalisis['categoria'])\n",
    "X.shape"
   ]
  },
  {
   "cell_type": "code",
   "execution_count": 11,
   "metadata": {},
   "outputs": [
    {
     "name": "stdout",
     "output_type": "stream",
     "text": [
      "[[43.3644665  31.89755772 19.50586767]\n",
      " [35.90241306 47.56828232 33.58748762]\n",
      " [49.99285115 40.87133549 17.47411785]\n",
      " [59.25320707 31.29770653 15.9896352 ]\n",
      " [39.94672753 42.82349753 23.72594859]]\n"
     ]
    }
   ],
   "source": [
    "kmeans = KMeans(n_clusters=5).fit(X)\n",
    "centroids = kmeans.cluster_centers_\n",
    "print(centroids)"
   ]
  },
  {
   "cell_type": "code",
   "execution_count": 12,
   "metadata": {},
   "outputs": [],
   "source": [
    "# Predicting the clusters\n",
    "labels = kmeans.predict(X)\n",
    "# Getting the cluster centers\n",
    "C = kmeans.cluster_centers_\n",
    "colores=['red','green','blue','cyan','yellow']\n",
    "asignar=[]\n",
    "for row in labels:\n",
    "    asignar.append(colores[row])"
   ]
  },
  {
   "cell_type": "code",
   "execution_count": 13,
   "metadata": {},
   "outputs": [
    {
     "data": {
      "text/html": [
       "<div>\n",
       "<style scoped>\n",
       "    .dataframe tbody tr th:only-of-type {\n",
       "        vertical-align: middle;\n",
       "    }\n",
       "\n",
       "    .dataframe tbody tr th {\n",
       "        vertical-align: top;\n",
       "    }\n",
       "\n",
       "    .dataframe thead th {\n",
       "        text-align: right;\n",
       "    }\n",
       "</style>\n",
       "<table border=\"1\" class=\"dataframe\">\n",
       "  <thead>\n",
       "    <tr style=\"text-align: right;\">\n",
       "      <th></th>\n",
       "      <th>color</th>\n",
       "      <th>cantidad</th>\n",
       "    </tr>\n",
       "  </thead>\n",
       "  <tbody>\n",
       "    <tr>\n",
       "      <th>0</th>\n",
       "      <td>red</td>\n",
       "      <td>18</td>\n",
       "    </tr>\n",
       "    <tr>\n",
       "      <th>1</th>\n",
       "      <td>green</td>\n",
       "      <td>34</td>\n",
       "    </tr>\n",
       "    <tr>\n",
       "      <th>2</th>\n",
       "      <td>blue</td>\n",
       "      <td>41</td>\n",
       "    </tr>\n",
       "    <tr>\n",
       "      <th>3</th>\n",
       "      <td>cyan</td>\n",
       "      <td>15</td>\n",
       "    </tr>\n",
       "    <tr>\n",
       "      <th>4</th>\n",
       "      <td>yellow</td>\n",
       "      <td>32</td>\n",
       "    </tr>\n",
       "  </tbody>\n",
       "</table>\n",
       "</div>"
      ],
      "text/plain": [
       "    color  cantidad\n",
       "0     red        18\n",
       "1   green        34\n",
       "2    blue        41\n",
       "3    cyan        15\n",
       "4  yellow        32"
      ]
     },
     "execution_count": 13,
     "metadata": {},
     "output_type": "execute_result"
    }
   ],
   "source": [
    "copy =  pd.DataFrame()\n",
    "copy['usuario']=dfAnalisis['usuario'].values\n",
    "copy['categoria']=dfAnalisis['categoria'].values\n",
    "copy['label'] = labels;\n",
    "cantidadGrupo =  pd.DataFrame()\n",
    "cantidadGrupo['color']=colores\n",
    "cantidadGrupo['cantidad']=copy.groupby('label').size()\n",
    "cantidadGrupo"
   ]
  },
  {
   "cell_type": "code",
   "execution_count": 14,
   "metadata": {},
   "outputs": [
    {
     "data": {
      "text/html": [
       "<div>\n",
       "<style scoped>\n",
       "    .dataframe tbody tr th:only-of-type {\n",
       "        vertical-align: middle;\n",
       "    }\n",
       "\n",
       "    .dataframe tbody tr th {\n",
       "        vertical-align: top;\n",
       "    }\n",
       "\n",
       "    .dataframe thead th {\n",
       "        text-align: right;\n",
       "    }\n",
       "</style>\n",
       "<table border=\"1\" class=\"dataframe\">\n",
       "  <thead>\n",
       "    <tr style=\"text-align: right;\">\n",
       "      <th></th>\n",
       "      <th>categoria</th>\n",
       "      <th>cantidad</th>\n",
       "    </tr>\n",
       "  </thead>\n",
       "  <tbody>\n",
       "    <tr>\n",
       "      <th>0</th>\n",
       "      <td>0</td>\n",
       "      <td>NaN</td>\n",
       "    </tr>\n",
       "    <tr>\n",
       "      <th>1</th>\n",
       "      <td>1</td>\n",
       "      <td>6.0</td>\n",
       "    </tr>\n",
       "    <tr>\n",
       "      <th>2</th>\n",
       "      <td>2</td>\n",
       "      <td>3.0</td>\n",
       "    </tr>\n",
       "    <tr>\n",
       "      <th>3</th>\n",
       "      <td>3</td>\n",
       "      <td>1.0</td>\n",
       "    </tr>\n",
       "    <tr>\n",
       "      <th>4</th>\n",
       "      <td>4</td>\n",
       "      <td>1.0</td>\n",
       "    </tr>\n",
       "    <tr>\n",
       "      <th>5</th>\n",
       "      <td>5</td>\n",
       "      <td>NaN</td>\n",
       "    </tr>\n",
       "    <tr>\n",
       "      <th>6</th>\n",
       "      <td>6</td>\n",
       "      <td>1.0</td>\n",
       "    </tr>\n",
       "    <tr>\n",
       "      <th>7</th>\n",
       "      <td>7</td>\n",
       "      <td>1.0</td>\n",
       "    </tr>\n",
       "    <tr>\n",
       "      <th>8</th>\n",
       "      <td>8</td>\n",
       "      <td>5.0</td>\n",
       "    </tr>\n",
       "    <tr>\n",
       "      <th>9</th>\n",
       "      <td>9</td>\n",
       "      <td>NaN</td>\n",
       "    </tr>\n",
       "  </tbody>\n",
       "</table>\n",
       "</div>"
      ],
      "text/plain": [
       "   categoria  cantidad\n",
       "0          0       NaN\n",
       "1          1       6.0\n",
       "2          2       3.0\n",
       "3          3       1.0\n",
       "4          4       1.0\n",
       "5          5       NaN\n",
       "6          6       1.0\n",
       "7          7       1.0\n",
       "8          8       5.0\n",
       "9          9       NaN"
      ]
     },
     "execution_count": 14,
     "metadata": {},
     "output_type": "execute_result"
    }
   ],
   "source": [
    "group_referrer_index = copy['label'] ==0\n",
    "group_referrals = copy[group_referrer_index]\n",
    "\n",
    "diversidadGrupo =  pd.DataFrame()\n",
    "diversidadGrupo['categoria']=[0,1,2,3,4,5,6,7,8,9]\n",
    "diversidadGrupo['cantidad']=group_referrals.groupby('categoria').size()\n",
    "diversidadGrupo"
   ]
  },
  {
   "cell_type": "code",
   "execution_count": 15,
   "metadata": {},
   "outputs": [
    {
     "data": {
      "text/plain": [
       "array([123,  98,  21,  82,  64], dtype=int64)"
      ]
     },
     "execution_count": 15,
     "metadata": {},
     "output_type": "execute_result"
    }
   ],
   "source": [
    "#vemos el representante del grupo, el usuario cercano a su centroid\n",
    "closest, _ = pairwise_distances_argmin_min(kmeans.cluster_centers_, X)\n",
    "closest"
   ]
  },
  {
   "cell_type": "code",
   "execution_count": 16,
   "metadata": {},
   "outputs": [
    {
     "name": "stdout",
     "output_type": "stream",
     "text": [
      "SJP\n",
      "maria_patino\n",
      "carmenelectra\n",
      "JudgeJudy\n",
      "ierrejon\n"
     ]
    }
   ],
   "source": [
    "users=dfAnalisis['usuario'].values\n",
    "for row in closest:\n",
    "    print(users[row])"
   ]
  },
  {
   "cell_type": "code",
   "execution_count": 17,
   "metadata": {},
   "outputs": [
    {
     "name": "stdout",
     "output_type": "stream",
     "text": [
      "[2]\n"
     ]
    }
   ],
   "source": [
    "X_new = np.array([[45.92,57.74,15.66]]) #davidguetta\n",
    " \n",
    "new_labels = kmeans.predict(X_new)\n",
    "print(new_labels)"
   ]
  }
 ],
 "metadata": {
  "kernelspec": {
   "display_name": "Python 3",
   "language": "python",
   "name": "python3"
  },
  "language_info": {
   "codemirror_mode": {
    "name": "ipython",
    "version": 3
   },
   "file_extension": ".py",
   "mimetype": "text/x-python",
   "name": "python",
   "nbconvert_exporter": "python",
   "pygments_lexer": "ipython3",
   "version": "3.6.5"
  }
 },
 "nbformat": 4,
 "nbformat_minor": 2
}
